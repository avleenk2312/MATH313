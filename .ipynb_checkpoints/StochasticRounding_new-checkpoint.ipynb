{
 "cells": [
  {
   "cell_type": "markdown",
   "metadata": {
    "id": "-OS3Ac017T1i"
   },
   "source": [
    "# Checking the Installation\n",
    "The `versioninfo()` function should print your Julia version and some other info about the system:"
   ]
  },
  {
   "cell_type": "code",
   "execution_count": null,
   "metadata": {
    "id": "EEzvvzCl1i0F"
   },
   "outputs": [],
   "source": [
    "versioninfo()"
   ]
  },
  {
   "cell_type": "markdown",
   "metadata": {
    "id": "8RC1QNNqk6h1"
   },
   "source": [
    "# Need Help?\n",
    "\n",
    "* Learning: https://julialang.org/learning/\n",
    "* Documentation: https://docs.julialang.org/\n",
    "* Questions & Discussions:\n",
    "  * https://discourse.julialang.org/\n",
    "  * http://julialang.slack.com/\n",
    "  * https://stackoverflow.com/questions/tagged/julia\n",
    "\n",
    "If you ever ask for help or file an issue about Julia, you should generally provide the output of `versioninfo()`."
   ]
  },
  {
   "cell_type": "markdown",
   "metadata": {
    "id": "2UMidUQB03vJ"
   },
   "source": [
    "Add new code cells by clicking the `+ Code` button (or _Insert_ > _Code cell_).\n",
    "\n",
    "Have fun!\n",
    "\n",
    "<img src=\"https://raw.githubusercontent.com/JuliaLang/julia-logo-graphics/master/images/julia-logo-mask.png\" height=\"100\" />"
   ]
  },
  {
   "cell_type": "markdown",
   "metadata": {
    "id": "dKfRSAx_b7DC"
   },
   "source": [
    "# Floating-Point Arithmetic\n",
    "\n",
    "The default floating-point number system is **Float64**, which is double precision on **MATLAB**. Let us find the value of machine epsilon and range as follows."
   ]
  },
  {
   "cell_type": "code",
   "execution_count": null,
   "metadata": {
    "id": "RXHzYoyPcYOm"
   },
   "outputs": [],
   "source": [
    "eps()"
   ]
  },
  {
   "cell_type": "code",
   "execution_count": null,
   "metadata": {
    "id": "WNKl9ws0cZrN"
   },
   "outputs": [],
   "source": [
    "floatmax()"
   ]
  },
  {
   "cell_type": "code",
   "execution_count": null,
   "metadata": {
    "id": "kBKC8MADceLn"
   },
   "outputs": [],
   "source": [
    "floatmin()"
   ]
  },
  {
   "cell_type": "markdown",
   "metadata": {
    "id": "vhlHJvbH6iCR"
   },
   "source": [
    "# Basics of Rounding\n",
    "\n",
    "## Types of functions:\n",
    "\n",
    "[1] **ceil(x)** returns the next largest integer to x (towards + ∞).\n",
    "\n",
    "[2] **floor(x)** returns the next smallest integer to x (towards - ∞).\n",
    "\n",
    "[3] **trunc(x)** returns the closest integer towards zero (round to zero).\n",
    "\n",
    "[4] **round(x,mode)** function with several modes options, see: https://docs.julialang.org/en/v1/base/math/#Base.round-Tuple{Type,%20Any}\n"
   ]
  },
  {
   "cell_type": "code",
   "execution_count": null,
   "metadata": {
    "id": "TzXesJPk8bpx"
   },
   "outputs": [],
   "source": [
    "ceil(1.3)"
   ]
  },
  {
   "cell_type": "code",
   "execution_count": null,
   "metadata": {
    "id": "KyEkPd6K8fhV"
   },
   "outputs": [],
   "source": [
    "floor(1.3)"
   ]
  },
  {
   "cell_type": "code",
   "execution_count": null,
   "metadata": {
    "id": "O-bJ1Mt5859z"
   },
   "outputs": [],
   "source": [
    "trunc(1.3)"
   ]
  },
  {
   "cell_type": "code",
   "execution_count": null,
   "metadata": {
    "id": "W9gjA1n-8j5T"
   },
   "outputs": [],
   "source": [
    "ceil(-1.3)"
   ]
  },
  {
   "cell_type": "code",
   "execution_count": null,
   "metadata": {
    "id": "HOXcjsgy8lKf"
   },
   "outputs": [],
   "source": [
    "floor(-1.3)"
   ]
  },
  {
   "cell_type": "code",
   "execution_count": null,
   "metadata": {
    "id": "0MgnBEOE8rkd"
   },
   "outputs": [],
   "source": [
    "trunc(-1.3)"
   ]
  },
  {
   "cell_type": "code",
   "execution_count": null,
   "metadata": {
    "id": "7LonmOPq8oie"
   },
   "outputs": [],
   "source": [
    "round(1.3) ## round to nearest by default"
   ]
  },
  {
   "cell_type": "code",
   "execution_count": null,
   "metadata": {
    "id": "n8Zo1z7R89n8"
   },
   "outputs": [],
   "source": [
    "round(-1.3) ## round to neart by default"
   ]
  },
  {
   "cell_type": "code",
   "execution_count": null,
   "metadata": {
    "id": "JYK8TzXF9F32"
   },
   "outputs": [],
   "source": [
    "round(1.3,RoundToZero)"
   ]
  },
  {
   "cell_type": "code",
   "execution_count": null,
   "metadata": {
    "id": "nagdcpOA_LnU"
   },
   "outputs": [],
   "source": [
    "round(-1.3,RoundToZero)"
   ]
  },
  {
   "cell_type": "code",
   "execution_count": null,
   "metadata": {
    "id": "LaHIVsvD_7Qs"
   },
   "outputs": [],
   "source": [
    "round(1.3,RoundUp)"
   ]
  },
  {
   "cell_type": "code",
   "execution_count": null,
   "metadata": {
    "id": "9Gc7_fby_9-X"
   },
   "outputs": [],
   "source": [
    "round(1.3,RoundDown)"
   ]
  },
  {
   "cell_type": "code",
   "execution_count": null,
   "metadata": {
    "id": "buZZYb_t__bQ"
   },
   "outputs": [],
   "source": [
    "round(-1.3,RoundUp)"
   ]
  },
  {
   "cell_type": "code",
   "execution_count": null,
   "metadata": {
    "id": "UPoHC4fDAB4j"
   },
   "outputs": [],
   "source": [
    "round(-1.3,RoundDown)"
   ]
  },
  {
   "cell_type": "markdown",
   "metadata": {
    "id": "634VD6nTAG71"
   },
   "source": [
    "# Stochastic Rounding\n",
    "\n",
    "Not included in Julia by deafult, a package is available called StochasticRounding.jl\n",
    "\n",
    "I used a popular randomly round to nearest integer idea as formed in  https://gist.github.com/coleoguy/a50dba496fc55440cb4945fe8e25d703 as mentioned in https://medium.com/@minghz42/what-is-stochastic-rounding-b78670d0c4a to create a version for it in Julia."
   ]
  },
  {
   "cell_type": "code",
   "execution_count": null,
   "metadata": {
    "id": "vY6frF7bA_cL"
   },
   "outputs": [],
   "source": [
    "using Pkg\n",
    "Pkg.add(\"Distributions\")"
   ]
  },
  {
   "cell_type": "code",
   "execution_count": null,
   "metadata": {
    "id": "-jF2YRIlAxJH"
   },
   "outputs": [],
   "source": [
    "using Distributions\n",
    "function StochasticRound(x)\n",
    "    # extract the decimal portion\n",
    "    r=trunc(x)\n",
    "    q=abs(x-r)\n",
    "    # draw a value 0 or 1 with probability\n",
    "    # based on how close we already are\n",
    "    Δx = wsample(0:1,[1-q,q],1)\n",
    "     # make it negative if x is negative\n",
    "     if(x<0)\n",
    "         Δx=-Δx\n",
    "     end\n",
    "     # return our new value\n",
    "     r+Δx[1]\n",
    "end"
   ]
  },
  {
   "cell_type": "code",
   "execution_count": null,
   "metadata": {
    "id": "dxe48Dz3Bicn"
   },
   "outputs": [],
   "source": [
    "StochasticRound(1.3)"
   ]
  },
  {
   "cell_type": "code",
   "execution_count": null,
   "metadata": {
    "id": "0ssGwLtYBlow"
   },
   "outputs": [],
   "source": [
    "StochasticRound(1.3)"
   ]
  },
  {
   "cell_type": "markdown",
   "metadata": {
    "id": "l1OXqDazBq4t"
   },
   "source": [
    "## How to \"see\" the probability?\n",
    "\n",
    "Let us plot it! \n",
    "\n"
   ]
  },
  {
   "cell_type": "code",
   "execution_count": null,
   "metadata": {
    "id": "03GgyyO3Bzwl"
   },
   "outputs": [],
   "source": [
    "using Plots\n",
    "\n",
    "global ℘=0\n",
    "n=10000\n",
    "print(\"Enter x:\")\n",
    "x = readline()\n",
    "x=parse(Float64,x)\n",
    "for i=1:n\n",
    "    result=StochasticRound(x)\n",
    "    if result==ceil(x)\n",
    "        global ℘=℘+1\n",
    "    end\n",
    "end\n",
    "global ℘=℘/n\n",
    "Plots.gr() # the default GR backend look for pie charts\n",
    "x = [\"ceil(x)\", \"floor(x)\"]\n",
    "y = [℘,1-℘]\n",
    "pie(x, y, title=\"Stochastic Rounding\", l=0.5)"
   ]
  },
  {
   "cell_type": "code",
   "execution_count": null,
   "metadata": {
    "id": "OlGCOsK_B-BO"
   },
   "outputs": [],
   "source": []
  }
 ],
 "metadata": {
  "colab": {
   "collapsed_sections": [],
   "include_colab_link": true,
   "provenance": []
  },
  "kernelspec": {
   "display_name": "Julia 1.8.0-rc1",
   "language": "julia",
   "name": "julia-1.8"
  },
  "language_info": {
   "file_extension": ".jl",
   "mimetype": "application/julia",
   "name": "julia",
   "version": "1.8.0"
  }
 },
 "nbformat": 4,
 "nbformat_minor": 1
}
