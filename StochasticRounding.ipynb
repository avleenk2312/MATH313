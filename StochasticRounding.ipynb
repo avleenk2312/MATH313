{
  "nbformat": 4,
  "nbformat_minor": 0,
  "metadata": {
    "colab": {
      "provenance": [],
      "collapsed_sections": [],
      "include_colab_link": true
    },
    "kernelspec": {
      "display_name": "Julia",
      "language": "julia",
      "name": "julia"
    },
    "language_info": {
      "file_extension": ".jl",
      "mimetype": "application/julia",
      "name": "julia"
    }
  },
  "cells": [
    {
      "cell_type": "markdown",
      "metadata": {
        "id": "view-in-github",
        "colab_type": "text"
      },
      "source": [
        "<a href=\"https://colab.research.google.com/github/avleenk2312/MATH313/blob/main/StochasticRounding.ipynb\" target=\"_parent\"><img src=\"https://colab.research.google.com/assets/colab-badge.svg\" alt=\"Open In Colab\"/></a>"
      ]
    },
    {
      "cell_type": "markdown",
      "metadata": {
        "id": "tQ1r1bbb0yBv"
      },
      "source": [
        "# <img src=\"https://github.com/JuliaLang/julia-logo-graphics/raw/master/images/julia-logo-color.png\" height=\"100\" /> _Colab Notebook Template_\n",
        "\n",
        "## Instructions\n",
        "1. Work on a copy of this notebook: _File_ > _Save a copy in Drive_ (you will need a Google account). Alternatively, you can download the notebook using _File_ > _Download .ipynb_, then upload it to [Colab](https://colab.research.google.com/).\n",
        "2. If you need a GPU: _Runtime_ > _Change runtime type_ > _Harware accelerator_ = _GPU_.\n",
        "3. Execute the following cell (click on it and press Ctrl+Enter) to install Julia, IJulia and other packages (if needed, update `JULIA_VERSION` and the other parameters). This takes a couple of minutes.\n",
        "4. Reload this page (press Ctrl+R, or ⌘+R, or the F5 key) and continue to the next section.\n",
        "\n",
        "_Notes_:\n",
        "* If your Colab Runtime gets reset (e.g., due to inactivity), repeat steps 2, 3 and 4.\n",
        "* After installation, if you want to change the Julia version or activate/deactivate the GPU, you will need to reset the Runtime: _Runtime_ > _Factory reset runtime_ and repeat steps 3 and 4."
      ]
    },
    {
      "cell_type": "code",
      "source": [],
      "metadata": {
        "id": "fWEIt4vr44iC"
      },
      "execution_count": null,
      "outputs": []
    },
    {
      "cell_type": "code",
      "metadata": {
        "id": "GIeFXS0F0zww"
      },
      "source": [
        "%%shell\n",
        "set -e\n",
        "\n",
        "#---------------------------------------------------#\n",
        "JULIA_VERSION=\"1.8.1\" # any version ≥ 0.7.0\n",
        "JULIA_PACKAGES=\"IJulia BenchmarkTools Plots\"\n",
        "JULIA_PACKAGES_IF_GPU=\"CUDA\" # or CuArrays for older Julia versions\n",
        "JULIA_NUM_THREADS=2\n",
        "#---------------------------------------------------#\n",
        "\n",
        "if [ -n \"$COLAB_GPU\" ] && [ -z `which julia` ]; then\n",
        "  # Install Julia\n",
        "  JULIA_VER=`cut -d '.' -f -2 <<< \"$JULIA_VERSION\"`\n",
        "  echo \"Installing Julia $JULIA_VERSION on the current Colab Runtime...\"\n",
        "  BASE_URL=\"https://julialang-s3.julialang.org/bin/linux/x64\"\n",
        "  URL=\"$BASE_URL/$JULIA_VER/julia-$JULIA_VERSION-linux-x86_64.tar.gz\"\n",
        "  wget -nv $URL -O /tmp/julia.tar.gz # -nv means \"not verbose\"\n",
        "  tar -x -f /tmp/julia.tar.gz -C /usr/local --strip-components 1\n",
        "  rm /tmp/julia.tar.gz\n",
        "\n",
        "  # Install Packages\n",
        "  if [ \"$COLAB_GPU\" = \"1\" ]; then\n",
        "      JULIA_PACKAGES=\"$JULIA_PACKAGES $JULIA_PACKAGES_IF_GPU\"\n",
        "  fi\n",
        "  for PKG in `echo $JULIA_PACKAGES`; do\n",
        "    echo \"Installing Julia package $PKG...\"\n",
        "    julia -e 'using Pkg; pkg\"add '$PKG'; precompile;\"' &> /dev/null\n",
        "  done\n",
        "\n",
        "  # Install kernel and rename it to \"julia\"\n",
        "  echo \"Installing IJulia kernel...\"\n",
        "  julia -e 'using IJulia; IJulia.installkernel(\"julia\", env=Dict(\n",
        "      \"JULIA_NUM_THREADS\"=>\"'\"$JULIA_NUM_THREADS\"'\"))'\n",
        "  KERNEL_DIR=`julia -e \"using IJulia; print(IJulia.kerneldir())\"`\n",
        "  KERNEL_NAME=`ls -d \"$KERNEL_DIR\"/julia*`\n",
        "  mv -f $KERNEL_NAME \"$KERNEL_DIR\"/julia  \n",
        "\n",
        "  echo ''\n",
        "  echo \"Successfully installed `julia -v`!\"\n",
        "  echo \"Please reload this page (press Ctrl+R, ⌘+R, or the F5 key) then\"\n",
        "  echo \"jump to the 'Checking the Installation' section.\"\n",
        "fi"
      ],
      "execution_count": null,
      "outputs": []
    },
    {
      "cell_type": "markdown",
      "metadata": {
        "id": "-OS3Ac017T1i"
      },
      "source": [
        "# Checking the Installation\n",
        "The `versioninfo()` function should print your Julia version and some other info about the system:"
      ]
    },
    {
      "cell_type": "code",
      "metadata": {
        "id": "EEzvvzCl1i0F"
      },
      "source": [
        "versioninfo()"
      ],
      "execution_count": null,
      "outputs": []
    },
    {
      "cell_type": "markdown",
      "metadata": {
        "id": "8RC1QNNqk6h1"
      },
      "source": [
        "# Need Help?\n",
        "\n",
        "* Learning: https://julialang.org/learning/\n",
        "* Documentation: https://docs.julialang.org/\n",
        "* Questions & Discussions:\n",
        "  * https://discourse.julialang.org/\n",
        "  * http://julialang.slack.com/\n",
        "  * https://stackoverflow.com/questions/tagged/julia\n",
        "\n",
        "If you ever ask for help or file an issue about Julia, you should generally provide the output of `versioninfo()`."
      ]
    },
    {
      "cell_type": "markdown",
      "metadata": {
        "id": "2UMidUQB03vJ"
      },
      "source": [
        "Add new code cells by clicking the `+ Code` button (or _Insert_ > _Code cell_).\n",
        "\n",
        "Have fun!\n",
        "\n",
        "<img src=\"https://raw.githubusercontent.com/JuliaLang/julia-logo-graphics/master/images/julia-logo-mask.png\" height=\"100\" />"
      ]
    },
    {
      "cell_type": "markdown",
      "source": [
        "# Floating-Point Arithmetic\n",
        "\n",
        "The default floating-point number system is **Float64**, which is double precision on **MATLAB**. Let us find the value of machine epsilon and range as follows."
      ],
      "metadata": {
        "id": "dKfRSAx_b7DC"
      }
    },
    {
      "cell_type": "code",
      "source": [
        "eps()"
      ],
      "metadata": {
        "id": "RXHzYoyPcYOm"
      },
      "execution_count": null,
      "outputs": []
    },
    {
      "cell_type": "code",
      "source": [
        "floatmax()"
      ],
      "metadata": {
        "id": "WNKl9ws0cZrN"
      },
      "execution_count": null,
      "outputs": []
    },
    {
      "cell_type": "code",
      "source": [
        "floatmin()"
      ],
      "metadata": {
        "id": "kBKC8MADceLn"
      },
      "execution_count": null,
      "outputs": []
    },
    {
      "cell_type": "markdown",
      "source": [
        "# Basics of Rounding\n",
        "\n",
        "## Types of functions:\n",
        "\n",
        "[1] **ceil(x)** returns the next largest integer to x (towards + ∞).\n",
        "\n",
        "[2] **floor(x)** returns the next smallest integer to x (towards - ∞).\n",
        "\n",
        "[3] **trunc(x)** returns the closest integer towards zero (round to zero).\n",
        "\n",
        "[4] **round(x,mode)** function with several modes options, see: https://docs.julialang.org/en/v1/base/math/#Base.round-Tuple{Type,%20Any}\n"
      ],
      "metadata": {
        "id": "vhlHJvbH6iCR"
      }
    },
    {
      "cell_type": "code",
      "source": [
        "ceil(1.3)"
      ],
      "metadata": {
        "id": "TzXesJPk8bpx"
      },
      "execution_count": null,
      "outputs": []
    },
    {
      "cell_type": "code",
      "source": [
        "floor(1.3)"
      ],
      "metadata": {
        "id": "KyEkPd6K8fhV"
      },
      "execution_count": null,
      "outputs": []
    },
    {
      "cell_type": "code",
      "source": [
        "trunc(1.3)"
      ],
      "metadata": {
        "id": "O-bJ1Mt5859z"
      },
      "execution_count": null,
      "outputs": []
    },
    {
      "cell_type": "code",
      "source": [
        "ceil(-1.3)"
      ],
      "metadata": {
        "id": "W9gjA1n-8j5T"
      },
      "execution_count": null,
      "outputs": []
    },
    {
      "cell_type": "code",
      "source": [
        "floor(-1.3)"
      ],
      "metadata": {
        "id": "HOXcjsgy8lKf"
      },
      "execution_count": null,
      "outputs": []
    },
    {
      "cell_type": "code",
      "source": [
        "trunc(-1.3)"
      ],
      "metadata": {
        "id": "0MgnBEOE8rkd"
      },
      "execution_count": null,
      "outputs": []
    },
    {
      "cell_type": "code",
      "source": [
        "round(1.3) ## round to nearest by default"
      ],
      "metadata": {
        "id": "7LonmOPq8oie"
      },
      "execution_count": null,
      "outputs": []
    },
    {
      "cell_type": "code",
      "source": [
        "round(-1.3) ## round to neart by deafult"
      ],
      "metadata": {
        "id": "n8Zo1z7R89n8"
      },
      "execution_count": null,
      "outputs": []
    },
    {
      "cell_type": "code",
      "source": [
        "round(1.3,RoundToZero)"
      ],
      "metadata": {
        "id": "JYK8TzXF9F32"
      },
      "execution_count": null,
      "outputs": []
    },
    {
      "cell_type": "code",
      "source": [
        "round(-1.3,RoundToZero)"
      ],
      "metadata": {
        "id": "nagdcpOA_LnU"
      },
      "execution_count": null,
      "outputs": []
    },
    {
      "cell_type": "code",
      "source": [
        "round(1.3,RoundUp)"
      ],
      "metadata": {
        "id": "LaHIVsvD_7Qs"
      },
      "execution_count": null,
      "outputs": []
    },
    {
      "cell_type": "code",
      "source": [
        "round(1.3,RoundDown)"
      ],
      "metadata": {
        "id": "9Gc7_fby_9-X"
      },
      "execution_count": null,
      "outputs": []
    },
    {
      "cell_type": "code",
      "source": [
        "round(-1.3,RoundUp)"
      ],
      "metadata": {
        "id": "buZZYb_t__bQ"
      },
      "execution_count": null,
      "outputs": []
    },
    {
      "cell_type": "code",
      "source": [
        "round(-1.3,RoundDown)"
      ],
      "metadata": {
        "id": "UPoHC4fDAB4j"
      },
      "execution_count": null,
      "outputs": []
    },
    {
      "cell_type": "markdown",
      "source": [
        "# Stochastic Rounding\n",
        "\n",
        "Not included in Julia by deafult, a package is available called StochasticRounding.jl\n",
        "\n",
        "I used a popular randomly round to nearest integer idea as formed in  https://gist.github.com/coleoguy/a50dba496fc55440cb4945fe8e25d703 as mentioned in https://medium.com/@minghz42/what-is-stochastic-rounding-b78670d0c4a to create a version for it in Julia."
      ],
      "metadata": {
        "id": "634VD6nTAG71"
      }
    },
    {
      "cell_type": "code",
      "source": [
        "using Pkg\n",
        "Pkg.add(\"Distributions\")"
      ],
      "metadata": {
        "id": "vY6frF7bA_cL"
      },
      "execution_count": null,
      "outputs": []
    },
    {
      "cell_type": "code",
      "source": [
        "using Distributions\n",
        "function StochasticRound(x)\n",
        "    # extract the decimal portion\n",
        "    r=trunc(x)\n",
        "    q=abs(x-r)\n",
        "    # draw a value 0 or 1 with probability\n",
        "    # based on how close we already are\n",
        "    Δx = wsample(0:1,[1-q,q],1)\n",
        "     # make it negative if x is negative\n",
        "     if(x<0)\n",
        "         Δx=-Δx\n",
        "     end\n",
        "     # return our new value\n",
        "     r+Δx[1]\n",
        "end"
      ],
      "metadata": {
        "id": "-jF2YRIlAxJH"
      },
      "execution_count": null,
      "outputs": []
    },
    {
      "cell_type": "code",
      "source": [
        "StochasticRound(1.3)"
      ],
      "metadata": {
        "id": "dxe48Dz3Bicn"
      },
      "execution_count": null,
      "outputs": []
    },
    {
      "cell_type": "code",
      "source": [
        "StochasticRound(1.3)"
      ],
      "metadata": {
        "id": "0ssGwLtYBlow"
      },
      "execution_count": null,
      "outputs": []
    },
    {
      "cell_type": "markdown",
      "source": [
        "## How to \"see\" the probability?\n",
        "\n",
        "Let us plot it! \n",
        "\n"
      ],
      "metadata": {
        "id": "l1OXqDazBq4t"
      }
    },
    {
      "cell_type": "code",
      "source": [
        "using Plots\n",
        "\n",
        "global ℘=0\n",
        "n=10000\n",
        "print(\"Enter x:\")\n",
        "x = readline()\n",
        "x=parse(Float64,x)\n",
        "for i=1:n\n",
        "    result=StochasticRound(x)\n",
        "    if result==ceil(x)\n",
        "        global ℘=℘+1\n",
        "    end\n",
        "end\n",
        "global ℘=℘/n\n",
        "Plots.gr() # the default GR backend look for pie charts\n",
        "x = [\"ceil(x)\", \"floor(x)\"]\n",
        "y = [℘,1-℘]\n",
        "pie(x, y, title=\"Stochastic Rounding\", l=0.5)"
      ],
      "metadata": {
        "id": "03GgyyO3Bzwl"
      },
      "execution_count": null,
      "outputs": []
    },
    {
      "cell_type": "code",
      "source": [],
      "metadata": {
        "id": "OlGCOsK_B-BO"
      },
      "execution_count": null,
      "outputs": []
    }
  ]
}