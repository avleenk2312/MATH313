{
  "nbformat": 4,
  "nbformat_minor": 0,
  "metadata": {
    "colab": {
      "provenance": [],
      "collapsed_sections": [],
      "include_colab_link": true
    },
    "kernelspec": {
      "display_name": "Julia",
      "language": "julia",
      "name": "julia"
    },
    "language_info": {
      "file_extension": ".jl",
      "mimetype": "application/julia",
      "name": "julia"
    }
  },
  "cells": [
    {
      "cell_type": "markdown",
      "metadata": {
        "id": "view-in-github",
        "colab_type": "text"
      },
      "source": [
        "<a href=\"https://colab.research.google.com/github/avleenk2312/MATH313/blob/main/StochasticRounding.ipynb\" target=\"_parent\"><img src=\"https://colab.research.google.com/assets/colab-badge.svg\" alt=\"Open In Colab\"/></a>"
      ]
    },
    {
      "cell_type": "markdown",
      "metadata": {
        "id": "tQ1r1bbb0yBv"
      },
      "source": [
        "# <img src=\"https://github.com/JuliaLang/julia-logo-graphics/raw/master/images/julia-logo-color.png\" height=\"100\" /> _Colab Notebook Template_\n",
        "\n",
        "## Instructions\n",
        "1. Work on a copy of this notebook: _File_ > _Save a copy in Drive_ (you will need a Google account). Alternatively, you can download the notebook using _File_ > _Download .ipynb_, then upload it to [Colab](https://colab.research.google.com/).\n",
        "2. If you need a GPU: _Runtime_ > _Change runtime type_ > _Harware accelerator_ = _GPU_.\n",
        "3. Execute the following cell (click on it and press Ctrl+Enter) to install Julia, IJulia and other packages (if needed, update `JULIA_VERSION` and the other parameters). This takes a couple of minutes.\n",
        "4. Reload this page (press Ctrl+R, or ⌘+R, or the F5 key) and continue to the next section.\n",
        "\n",
        "_Notes_:\n",
        "* If your Colab Runtime gets reset (e.g., due to inactivity), repeat steps 2, 3 and 4.\n",
        "* After installation, if you want to change the Julia version or activate/deactivate the GPU, you will need to reset the Runtime: _Runtime_ > _Factory reset runtime_ and repeat steps 3 and 4."
      ]
    },
    {
      "cell_type": "code",
      "source": [],
      "metadata": {
        "id": "fWEIt4vr44iC"
      },
      "execution_count": null,
      "outputs": []
    },
    {
      "cell_type": "code",
      "metadata": {
        "id": "GIeFXS0F0zww",
        "colab": {
          "base_uri": "https://localhost:8080/"
        },
        "outputId": "06c1d96e-6eba-4a67-aea6-dfe0519a6ed1"
      },
      "source": [
        "%%shell\n",
        "set -e\n",
        "\n",
        "#---------------------------------------------------#\n",
        "JULIA_VERSION=\"1.8.1\" # any version ≥ 0.7.0\n",
        "JULIA_PACKAGES=\"IJulia BenchmarkTools Plots\"\n",
        "JULIA_PACKAGES_IF_GPU=\"CUDA\" # or CuArrays for older Julia versions\n",
        "JULIA_NUM_THREADS=2\n",
        "#---------------------------------------------------#\n",
        "\n",
        "if [ -n \"$COLAB_GPU\" ] && [ -z `which julia` ]; then\n",
        "  # Install Julia\n",
        "  JULIA_VER=`cut -d '.' -f -2 <<< \"$JULIA_VERSION\"`\n",
        "  echo \"Installing Julia $JULIA_VERSION on the current Colab Runtime...\"\n",
        "  BASE_URL=\"https://julialang-s3.julialang.org/bin/linux/x64\"\n",
        "  URL=\"$BASE_URL/$JULIA_VER/julia-$JULIA_VERSION-linux-x86_64.tar.gz\"\n",
        "  wget -nv $URL -O /tmp/julia.tar.gz # -nv means \"not verbose\"\n",
        "  tar -x -f /tmp/julia.tar.gz -C /usr/local --strip-components 1\n",
        "  rm /tmp/julia.tar.gz\n",
        "\n",
        "  # Install Packages\n",
        "  if [ \"$COLAB_GPU\" = \"1\" ]; then\n",
        "      JULIA_PACKAGES=\"$JULIA_PACKAGES $JULIA_PACKAGES_IF_GPU\"\n",
        "  fi\n",
        "  for PKG in `echo $JULIA_PACKAGES`; do\n",
        "    echo \"Installing Julia package $PKG...\"\n",
        "    julia -e 'using Pkg; pkg\"add '$PKG'; precompile;\"' &> /dev/null\n",
        "  done\n",
        "\n",
        "  # Install kernel and rename it to \"julia\"\n",
        "  echo \"Installing IJulia kernel...\"\n",
        "  julia -e 'using IJulia; IJulia.installkernel(\"julia\", env=Dict(\n",
        "      \"JULIA_NUM_THREADS\"=>\"'\"$JULIA_NUM_THREADS\"'\"))'\n",
        "  KERNEL_DIR=`julia -e \"using IJulia; print(IJulia.kerneldir())\"`\n",
        "  KERNEL_NAME=`ls -d \"$KERNEL_DIR\"/julia*`\n",
        "  mv -f $KERNEL_NAME \"$KERNEL_DIR\"/julia  \n",
        "\n",
        "  echo ''\n",
        "  echo \"Successfully installed `julia -v`!\"\n",
        "  echo \"Please reload this page (press Ctrl+R, ⌘+R, or the F5 key) then\"\n",
        "  echo \"jump to the 'Checking the Installation' section.\"\n",
        "fi"
      ],
      "execution_count": null,
      "outputs": [
        {
          "output_type": "stream",
          "name": "stdout",
          "text": [
            "Installing Julia 1.8.1 on the current Colab Runtime...\n",
            "2022-09-19 22:37:25 URL:https://storage.googleapis.com/julialang2/bin/linux/x64/1.8/julia-1.8.1-linux-x86_64.tar.gz [137332197/137332197] -> \"/tmp/julia.tar.gz\" [1]\n",
            "Installing Julia package IJulia...\n",
            "Installing Julia package BenchmarkTools...\n",
            "Installing Julia package Plots...\n"
          ]
        }
      ]
    },
    {
      "cell_type": "markdown",
      "metadata": {
        "id": "-OS3Ac017T1i"
      },
      "source": [
        "# Checking the Installation\n",
        "The `versioninfo()` function should print your Julia version and some other info about the system:"
      ]
    },
    {
      "cell_type": "code",
      "metadata": {
        "id": "EEzvvzCl1i0F",
        "colab": {
          "base_uri": "https://localhost:8080/"
        },
        "outputId": "d59bd1f2-482d-4d16-8ff5-2c2e3a9eddb7"
      },
      "source": [
        "versioninfo()"
      ],
      "execution_count": null,
      "outputs": [
        {
          "output_type": "stream",
          "name": "stdout",
          "text": [
            "Julia Version 1.8.1\n",
            "Commit afb6c60d69a (2022-09-06 15:09 UTC)\n",
            "Platform Info:\n",
            "  OS: Linux (x86_64-linux-gnu)\n",
            "  CPU: 2 × Intel(R) Xeon(R) CPU @ 2.20GHz\n",
            "  WORD_SIZE: 64\n",
            "  LIBM: libopenlibm\n",
            "  LLVM: libLLVM-13.0.1 (ORCJIT, broadwell)\n",
            "  Threads: 2 on 2 virtual cores\n",
            "Environment:\n",
            "  LD_LIBRARY_PATH = /usr/local/nvidia/lib:/usr/local/nvidia/lib64\n",
            "  LD_PRELOAD = /usr/lib/x86_64-linux-gnu/libtcmalloc.so.4\n",
            "  JULIA_NUM_THREADS = 2\n"
          ]
        }
      ]
    },
    {
      "cell_type": "markdown",
      "metadata": {
        "id": "8RC1QNNqk6h1"
      },
      "source": [
        "# Need Help?\n",
        "\n",
        "* Learning: https://julialang.org/learning/\n",
        "* Documentation: https://docs.julialang.org/\n",
        "* Questions & Discussions:\n",
        "  * https://discourse.julialang.org/\n",
        "  * http://julialang.slack.com/\n",
        "  * https://stackoverflow.com/questions/tagged/julia\n",
        "\n",
        "If you ever ask for help or file an issue about Julia, you should generally provide the output of `versioninfo()`."
      ]
    },
    {
      "cell_type": "markdown",
      "metadata": {
        "id": "2UMidUQB03vJ"
      },
      "source": [
        "Add new code cells by clicking the `+ Code` button (or _Insert_ > _Code cell_).\n",
        "\n",
        "Have fun!\n",
        "\n",
        "<img src=\"https://raw.githubusercontent.com/JuliaLang/julia-logo-graphics/master/images/julia-logo-mask.png\" height=\"100\" />"
      ]
    },
    {
      "cell_type": "markdown",
      "source": [
        "# Basics of Rounding\n",
        "\n",
        "## Types of functions:\n",
        "\n",
        "[1] **ciel(x)** returns the next largest integer to x (towards + ∞).\n",
        "\n",
        "[2] **floor(x)** returns the next smallest integer to x (towards - ∞).\n",
        "\n",
        "[3] **trunc(x)** returns the closest integer towards zero (round to zero).\n",
        "\n",
        "[4] **round(x,mode)** function with several modes options, see: https://docs.julialang.org/en/v1/base/math/#Base.round-Tuple{Type,%20Any}\n"
      ],
      "metadata": {
        "id": "vhlHJvbH6iCR"
      }
    },
    {
      "cell_type": "code",
      "source": [
        "ceil(1.3)"
      ],
      "metadata": {
        "colab": {
          "base_uri": "https://localhost:8080/"
        },
        "id": "TzXesJPk8bpx",
        "outputId": "42821e45-08e2-4a16-c64c-49f85709a58e"
      },
      "execution_count": 2,
      "outputs": [
        {
          "output_type": "execute_result",
          "data": {
            "text/plain": [
              "2.0"
            ]
          },
          "metadata": {},
          "execution_count": 2
        }
      ]
    },
    {
      "cell_type": "code",
      "source": [
        "floor(1.3)"
      ],
      "metadata": {
        "colab": {
          "base_uri": "https://localhost:8080/"
        },
        "id": "KyEkPd6K8fhV",
        "outputId": "796bcb77-527b-478b-84e0-e233b22502fd"
      },
      "execution_count": 11,
      "outputs": [
        {
          "output_type": "execute_result",
          "data": {
            "text/plain": [
              "1.0"
            ]
          },
          "metadata": {},
          "execution_count": 11
        }
      ]
    },
    {
      "cell_type": "code",
      "source": [
        "trunc(1.3)"
      ],
      "metadata": {
        "id": "O-bJ1Mt5859z"
      },
      "execution_count": null,
      "outputs": []
    },
    {
      "cell_type": "code",
      "source": [
        "ceil(-1.3)"
      ],
      "metadata": {
        "colab": {
          "base_uri": "https://localhost:8080/"
        },
        "id": "W9gjA1n-8j5T",
        "outputId": "ca08ecda-850d-4a3a-9549-ec7f33456852"
      },
      "execution_count": 4,
      "outputs": [
        {
          "output_type": "execute_result",
          "data": {
            "text/plain": [
              "2.0"
            ]
          },
          "metadata": {},
          "execution_count": 4
        }
      ]
    },
    {
      "cell_type": "code",
      "source": [
        "floor(-1.3)"
      ],
      "metadata": {
        "colab": {
          "base_uri": "https://localhost:8080/"
        },
        "id": "HOXcjsgy8lKf",
        "outputId": "0ed1fda2-16a9-492b-f5bb-d88c41f14e14"
      },
      "execution_count": 5,
      "outputs": [
        {
          "output_type": "execute_result",
          "data": {
            "text/plain": [
              "1.0"
            ]
          },
          "metadata": {},
          "execution_count": 5
        }
      ]
    },
    {
      "cell_type": "code",
      "source": [
        "trunc(-1.3)"
      ],
      "metadata": {
        "colab": {
          "base_uri": "https://localhost:8080/"
        },
        "id": "0MgnBEOE8rkd",
        "outputId": "360c55d5-81f1-4407-da38-46a31018c149"
      },
      "execution_count": 10,
      "outputs": [
        {
          "output_type": "execute_result",
          "data": {
            "text/plain": [
              "-1.0"
            ]
          },
          "metadata": {},
          "execution_count": 10
        }
      ]
    },
    {
      "cell_type": "code",
      "source": [
        "round(1.3) ## round to nearest by default"
      ],
      "metadata": {
        "colab": {
          "base_uri": "https://localhost:8080/"
        },
        "id": "7LonmOPq8oie",
        "outputId": "bd4f4d8c-64b2-4ad1-9836-6c5c0c857162"
      },
      "execution_count": 12,
      "outputs": [
        {
          "output_type": "execute_result",
          "data": {
            "text/plain": [
              "1.0"
            ]
          },
          "metadata": {},
          "execution_count": 12
        }
      ]
    },
    {
      "cell_type": "code",
      "source": [
        "round(-1.3) ## round to neart by deafult"
      ],
      "metadata": {
        "colab": {
          "base_uri": "https://localhost:8080/"
        },
        "id": "n8Zo1z7R89n8",
        "outputId": "e844b46a-5b1d-49d9-ae58-e40cb56d429f"
      },
      "execution_count": 14,
      "outputs": [
        {
          "output_type": "execute_result",
          "data": {
            "text/plain": [
              "-1.0"
            ]
          },
          "metadata": {},
          "execution_count": 14
        }
      ]
    },
    {
      "cell_type": "code",
      "source": [
        "round(1.3,RoundToZero)"
      ],
      "metadata": {
        "colab": {
          "base_uri": "https://localhost:8080/"
        },
        "id": "JYK8TzXF9F32",
        "outputId": "4db529cf-73f3-4e2c-f160-de9b6d09d663"
      },
      "execution_count": 16,
      "outputs": [
        {
          "output_type": "execute_result",
          "data": {
            "text/plain": [
              "1.0"
            ]
          },
          "metadata": {},
          "execution_count": 16
        }
      ]
    },
    {
      "cell_type": "code",
      "source": [
        "round(-1.3,RoundToZero)"
      ],
      "metadata": {
        "colab": {
          "base_uri": "https://localhost:8080/"
        },
        "id": "nagdcpOA_LnU",
        "outputId": "8de296b3-bc79-4a15-baf3-46bb32b0cc92"
      },
      "execution_count": 18,
      "outputs": [
        {
          "output_type": "execute_result",
          "data": {
            "text/plain": [
              "1.0"
            ]
          },
          "metadata": {},
          "execution_count": 18
        }
      ]
    },
    {
      "cell_type": "code",
      "source": [
        "round(1.3,RoundUp)"
      ],
      "metadata": {
        "colab": {
          "base_uri": "https://localhost:8080/"
        },
        "id": "LaHIVsvD_7Qs",
        "outputId": "e2cbb535-3dc5-4f60-c76b-e5f201fa3324"
      },
      "execution_count": 19,
      "outputs": [
        {
          "output_type": "execute_result",
          "data": {
            "text/plain": [
              "2.0"
            ]
          },
          "metadata": {},
          "execution_count": 19
        }
      ]
    },
    {
      "cell_type": "code",
      "source": [
        "round(1.3,RoundDown)"
      ],
      "metadata": {
        "colab": {
          "base_uri": "https://localhost:8080/"
        },
        "id": "9Gc7_fby_9-X",
        "outputId": "236a6477-0f66-4c58-bd26-75a5281e579a"
      },
      "execution_count": 20,
      "outputs": [
        {
          "output_type": "execute_result",
          "data": {
            "text/plain": [
              "1.0"
            ]
          },
          "metadata": {},
          "execution_count": 20
        }
      ]
    },
    {
      "cell_type": "code",
      "source": [
        "round(-1.3,RoundUp)"
      ],
      "metadata": {
        "colab": {
          "base_uri": "https://localhost:8080/"
        },
        "id": "buZZYb_t__bQ",
        "outputId": "19ccf9b5-c49d-43f5-b1aa-0054b0a058bf"
      },
      "execution_count": 21,
      "outputs": [
        {
          "output_type": "execute_result",
          "data": {
            "text/plain": [
              "-1.0"
            ]
          },
          "metadata": {},
          "execution_count": 21
        }
      ]
    },
    {
      "cell_type": "code",
      "source": [
        "round(-1.3,RoundDown)"
      ],
      "metadata": {
        "colab": {
          "base_uri": "https://localhost:8080/"
        },
        "id": "UPoHC4fDAB4j",
        "outputId": "7312fa44-b636-4b2e-e38f-1fddbc432862"
      },
      "execution_count": 22,
      "outputs": [
        {
          "output_type": "execute_result",
          "data": {
            "text/plain": [
              "-2.0"
            ]
          },
          "metadata": {},
          "execution_count": 22
        }
      ]
    },
    {
      "cell_type": "markdown",
      "source": [
        "# Stochastic Rounding\n",
        "\n",
        "Not included in Julia by deafult, a package is available called StochasticRounding.jl\n",
        "\n",
        "I used a popular randomly round to nearest integer idea as formed in  https://gist.github.com/coleoguy/a50dba496fc55440cb4945fe8e25d703 as mentioned in https://medium.com/@minghz42/what-is-stochastic-rounding-b78670d0c4a to create a version for it in Julia."
      ],
      "metadata": {
        "id": "634VD6nTAG71"
      }
    },
    {
      "cell_type": "code",
      "source": [
        "using Pkg\n",
        "Pkg.add(\"Distributions\")"
      ],
      "metadata": {
        "colab": {
          "base_uri": "https://localhost:8080/"
        },
        "id": "vY6frF7bA_cL",
        "outputId": "6181cc5e-0610-41da-aab2-cf14d18ee801"
      },
      "execution_count": 28,
      "outputs": [
        {
          "output_type": "stream",
          "name": "stderr",
          "text": [
            "\u001b[32m\u001b[1m    Updating\u001b[22m\u001b[39m registry at `~/.julia/registries/General.toml`\n",
            "\u001b[32m\u001b[1m   Resolving\u001b[22m\u001b[39m package versions...\n",
            "\u001b[32m\u001b[1m   Installed\u001b[22m\u001b[39m Calculus ──────────────── v0.5.1\n",
            "\u001b[32m\u001b[1m   Installed\u001b[22m\u001b[39m Rmath_jll ─────────────── v0.3.0+0\n",
            "\u001b[32m\u001b[1m   Installed\u001b[22m\u001b[39m HypergeometricFunctions ─ v0.3.11\n",
            "\u001b[32m\u001b[1m   Installed\u001b[22m\u001b[39m StatsFuns ─────────────── v1.0.1\n",
            "\u001b[32m\u001b[1m   Installed\u001b[22m\u001b[39m PDMats ────────────────── v0.11.16\n",
            "\u001b[32m\u001b[1m   Installed\u001b[22m\u001b[39m DualNumbers ───────────── v0.6.8\n",
            "\u001b[32m\u001b[1m   Installed\u001b[22m\u001b[39m Rmath ─────────────────── v0.7.0\n",
            "\u001b[32m\u001b[1m   Installed\u001b[22m\u001b[39m FillArrays ────────────── v0.13.4\n",
            "\u001b[32m\u001b[1m   Installed\u001b[22m\u001b[39m QuadGK ────────────────── v2.5.0\n",
            "\u001b[32m\u001b[1m   Installed\u001b[22m\u001b[39m DensityInterface ──────── v0.4.0\n",
            "\u001b[32m\u001b[1m   Installed\u001b[22m\u001b[39m Distributions ─────────── v0.25.73\n",
            "\u001b[32m\u001b[1m    Updating\u001b[22m\u001b[39m `~/.julia/environments/v1.8/Project.toml`\n",
            " \u001b[90m [31c24e10] \u001b[39m\u001b[92m+ Distributions v0.25.73\u001b[39m\n",
            "\u001b[32m\u001b[1m    Updating\u001b[22m\u001b[39m `~/.julia/environments/v1.8/Manifest.toml`\n",
            " \u001b[90m [49dc2e85] \u001b[39m\u001b[92m+ Calculus v0.5.1\u001b[39m\n",
            " \u001b[90m [b429d917] \u001b[39m\u001b[92m+ DensityInterface v0.4.0\u001b[39m\n",
            " \u001b[90m [31c24e10] \u001b[39m\u001b[92m+ Distributions v0.25.73\u001b[39m\n",
            " \u001b[90m [fa6b7ba4] \u001b[39m\u001b[92m+ DualNumbers v0.6.8\u001b[39m\n",
            " \u001b[90m [1a297f60] \u001b[39m\u001b[92m+ FillArrays v0.13.4\u001b[39m\n",
            " \u001b[90m [34004b35] \u001b[39m\u001b[92m+ HypergeometricFunctions v0.3.11\u001b[39m\n",
            " \u001b[90m [90014a1f] \u001b[39m\u001b[92m+ PDMats v0.11.16\u001b[39m\n",
            " \u001b[90m [1fd47b50] \u001b[39m\u001b[92m+ QuadGK v2.5.0\u001b[39m\n",
            " \u001b[90m [79098fc4] \u001b[39m\u001b[92m+ Rmath v0.7.0\u001b[39m\n",
            " \u001b[90m [4c63d2b9] \u001b[39m\u001b[92m+ StatsFuns v1.0.1\u001b[39m\n",
            " \u001b[90m [f50d1b31] \u001b[39m\u001b[92m+ Rmath_jll v0.3.0+0\u001b[39m\n",
            " \u001b[90m [4607b0f0] \u001b[39m\u001b[92m+ SuiteSparse\u001b[39m\n",
            "\u001b[32m\u001b[1mPrecompiling\u001b[22m\u001b[39m project...\n",
            "\u001b[32m  ✓ \u001b[39m\u001b[90mPDMats\u001b[39m\n",
            "\u001b[32m  ✓ \u001b[39m\u001b[90mCalculus\u001b[39m\n",
            "\u001b[32m  ✓ \u001b[39m\u001b[90mDensityInterface\u001b[39m\n",
            "\u001b[32m  ✓ \u001b[39m\u001b[90mRmath_jll\u001b[39m\n",
            "\u001b[32m  ✓ \u001b[39m\u001b[90mFillArrays\u001b[39m\n",
            "\u001b[32m  ✓ \u001b[39m\u001b[90mQuadGK\u001b[39m\n",
            "\u001b[32m  ✓ \u001b[39m\u001b[90mDualNumbers\u001b[39m\n",
            "\u001b[32m  ✓ \u001b[39m\u001b[90mRmath\u001b[39m\n",
            "\u001b[32m  ✓ \u001b[39m\u001b[90mHypergeometricFunctions\u001b[39m\n",
            "\u001b[32m  ✓ \u001b[39m\u001b[90mStatsFuns\u001b[39m\n",
            "\u001b[32m  ✓ \u001b[39mDistributions\n",
            "  11 dependencies successfully precompiled in 17 seconds. 137 already precompiled.\n"
          ]
        }
      ]
    },
    {
      "cell_type": "code",
      "source": [
        "using Distributions\n",
        "function StochasticRound(x)\n",
        "    # extract the decimal portion\n",
        "    r=trunc(x)\n",
        "    q=abs(x-r)\n",
        "    # draw a value 0 or 1 with probability\n",
        "    # based on how close we already are\n",
        "    Δx = wsample(0:1,[1-q,q],1)\n",
        "     # make it negative if x is negative\n",
        "     if(x<0)\n",
        "         Δx=-Δx\n",
        "     end\n",
        "     # return our new value\n",
        "     r+Δx[1]\n",
        "end"
      ],
      "metadata": {
        "colab": {
          "base_uri": "https://localhost:8080/"
        },
        "id": "-jF2YRIlAxJH",
        "outputId": "5f57d120-7ff4-4e0c-9a97-3c04aeead339"
      },
      "execution_count": 29,
      "outputs": [
        {
          "output_type": "execute_result",
          "data": {
            "text/plain": [
              "StochasticRound (generic function with 1 method)"
            ]
          },
          "metadata": {},
          "execution_count": 29
        }
      ]
    },
    {
      "cell_type": "code",
      "source": [
        "StochasticRound(1.3)"
      ],
      "metadata": {
        "colab": {
          "base_uri": "https://localhost:8080/"
        },
        "id": "dxe48Dz3Bicn",
        "outputId": "062b0da6-c198-4c5c-9d07-3c7c36dfd5c9"
      },
      "execution_count": 30,
      "outputs": [
        {
          "output_type": "execute_result",
          "data": {
            "text/plain": [
              "1.0"
            ]
          },
          "metadata": {},
          "execution_count": 30
        }
      ]
    },
    {
      "cell_type": "code",
      "source": [
        "StochasticRound(1.3)"
      ],
      "metadata": {
        "colab": {
          "base_uri": "https://localhost:8080/"
        },
        "id": "0ssGwLtYBlow",
        "outputId": "553b4184-bbd7-4119-880b-4330a1756d69"
      },
      "execution_count": 31,
      "outputs": [
        {
          "output_type": "execute_result",
          "data": {
            "text/plain": [
              "2.0"
            ]
          },
          "metadata": {},
          "execution_count": 31
        }
      ]
    },
    {
      "cell_type": "markdown",
      "source": [
        "## What is the probability?\n",
        "\n",
        "Let us plot it"
      ],
      "metadata": {
        "id": "l1OXqDazBq4t"
      }
    },
    {
      "cell_type": "code",
      "source": [
        "using Plots\n",
        "\n",
        "global ℘=0\n",
        "n=10000\n",
        "print(\"Enter x:\")\n",
        "x = readline()\n",
        "x=parse(Float64,x)\n",
        "for i=1:n\n",
        "    result=StochasticRound(x)\n",
        "    if result==ceil(x)\n",
        "        global ℘=℘+1\n",
        "    end\n",
        "end\n",
        "global ℘=℘/n\n",
        "Plots.gr() # the default GR backend look for pie charts\n",
        "x = [\"ceil(x)\", \"floor(x)\"]\n",
        "y = [℘,1-℘]\n",
        "pie(x, y, title=\"Stochastic Rounding\", l=0.5)"
      ],
      "metadata": {
        "colab": {
          "base_uri": "https://localhost:8080/",
          "height": 459
        },
        "id": "03GgyyO3Bzwl",
        "outputId": "86bf32c3-eb22-473b-d7f3-5a538e069a3e"
      },
      "execution_count": 33,
      "outputs": [
        {
          "name": "stdout",
          "output_type": "stream",
          "text": [
            "Enter x:stdin> 1.5\n"
          ]
        },
        {
          "output_type": "execute_result",
          "data": {
            "image/svg+xml": "<?xml version=\"1.0\" encoding=\"utf-8\"?>\n<svg xmlns=\"http://www.w3.org/2000/svg\" xmlns:xlink=\"http://www.w3.org/1999/xlink\" width=\"600\" height=\"400\" viewBox=\"0 0 2400 1600\">\n<defs>\n  <clipPath id=\"clip580\">\n    <rect x=\"0\" y=\"0\" width=\"2400\" height=\"1600\"/>\n  </clipPath>\n</defs>\n<path clip-path=\"url(#clip580)\" d=\"\nM0 1600 L2400 1600 L2400 0 L0 0  Z\n  \" fill=\"#ffffff\" fill-rule=\"evenodd\" fill-opacity=\"1\"/>\n<defs>\n  <clipPath id=\"clip581\">\n    <rect x=\"480\" y=\"0\" width=\"1681\" height=\"1600\"/>\n  </clipPath>\n</defs>\n<path clip-path=\"url(#clip580)\" d=\"\nM193.936 1486.45 L2352.76 1486.45 L2352.76 123.472 L193.936 123.472  Z\n  \" fill=\"#ffffff\" fill-rule=\"evenodd\" fill-opacity=\"1\"/>\n<defs>\n  <clipPath id=\"clip582\">\n    <rect x=\"193\" y=\"123\" width=\"2160\" height=\"1364\"/>\n  </clipPath>\n</defs>\n<path clip-path=\"url(#clip580)\" d=\"M895.498 14.0809 L895.498 22.0612 Q890.839 19.8332 886.707 18.7395 Q882.575 17.6457 878.727 17.6457 Q872.043 17.6457 868.397 20.2383 Q864.792 22.8309 864.792 27.611 Q864.792 31.6214 867.182 33.6873 Q869.613 35.7128 876.337 36.9686 L881.279 37.9813 Q890.434 39.7232 894.769 44.1387 Q899.144 48.5136 899.144 55.8863 Q899.144 64.6767 893.229 69.2137 Q887.356 73.7508 875.973 73.7508 Q871.679 73.7508 866.817 72.7785 Q861.997 71.8063 856.812 69.9024 L856.812 61.4765 Q861.794 64.2716 866.574 65.6895 Q871.354 67.1073 875.973 67.1073 Q882.981 67.1073 886.788 64.3527 Q890.596 61.598 890.596 56.4939 Q890.596 52.0379 887.842 49.5264 Q885.128 47.0148 878.889 45.759 L873.907 44.7868 Q864.751 42.9639 860.66 39.075 Q856.569 35.1862 856.569 28.2591 Q856.569 20.2383 862.199 15.6203 Q867.871 11.0023 877.795 11.0023 Q882.049 11.0023 886.464 11.7719 Q890.88 12.5416 895.498 14.0809 Z\" fill=\"#000000\" fill-rule=\"evenodd\" fill-opacity=\"1\" /><path clip-path=\"url(#clip580)\" d=\"M918.953 14.324 L918.953 27.2059 L934.306 27.2059 L934.306 32.9987 L918.953 32.9987 L918.953 57.6282 Q918.953 63.1779 920.451 64.7578 Q921.991 66.3376 926.649 66.3376 L934.306 66.3376 L934.306 72.576 L926.649 72.576 Q918.021 72.576 914.74 69.3758 Q911.458 66.1351 911.458 57.6282 L911.458 32.9987 L905.99 32.9987 L905.99 27.2059 L911.458 27.2059 L911.458 14.324 L918.953 14.324 Z\" fill=\"#000000\" fill-rule=\"evenodd\" fill-opacity=\"1\" /><path clip-path=\"url(#clip580)\" d=\"M961.69 32.4315 Q955.694 32.4315 952.211 37.1306 Q948.727 41.7891 948.727 49.9314 Q948.727 58.0738 952.17 62.7728 Q955.654 67.4314 961.69 67.4314 Q967.644 67.4314 971.128 62.7323 Q974.612 58.0333 974.612 49.9314 Q974.612 41.8701 971.128 37.1711 Q967.644 32.4315 961.69 32.4315 M961.69 26.1121 Q971.412 26.1121 976.962 32.4315 Q982.511 38.7509 982.511 49.9314 Q982.511 61.0714 976.962 67.4314 Q971.412 73.7508 961.69 73.7508 Q951.927 73.7508 946.377 67.4314 Q940.868 61.0714 940.868 49.9314 Q940.868 38.7509 946.377 32.4315 Q951.927 26.1121 961.69 26.1121 Z\" fill=\"#000000\" fill-rule=\"evenodd\" fill-opacity=\"1\" /><path clip-path=\"url(#clip580)\" d=\"M1027.52 28.9478 L1027.52 35.9153 Q1024.36 34.1734 1021.16 33.3227 Q1018 32.4315 1014.76 32.4315 Q1007.51 32.4315 1003.49 37.0496 Q999.485 41.6271 999.485 49.9314 Q999.485 58.2358 1003.49 62.8538 Q1007.51 67.4314 1014.76 67.4314 Q1018 67.4314 1021.16 66.5807 Q1024.36 65.6895 1027.52 63.9476 L1027.52 70.8341 Q1024.4 72.2924 1021.04 73.0216 Q1017.71 73.7508 1013.95 73.7508 Q1003.7 73.7508 997.662 67.3098 Q991.626 60.8689 991.626 49.9314 Q991.626 38.832 997.702 32.472 Q1003.82 26.1121 1014.43 26.1121 Q1017.88 26.1121 1021.16 26.8413 Q1024.44 27.5299 1027.52 28.9478 Z\" fill=\"#000000\" fill-rule=\"evenodd\" fill-opacity=\"1\" /><path clip-path=\"url(#clip580)\" d=\"M1078.19 45.1919 L1078.19 72.576 L1070.74 72.576 L1070.74 45.4349 Q1070.74 38.994 1068.23 35.7938 Q1065.72 32.5936 1060.69 32.5936 Q1054.66 32.5936 1051.17 36.4419 Q1047.69 40.2903 1047.69 46.9338 L1047.69 72.576 L1040.2 72.576 L1040.2 9.54393 L1047.69 9.54393 L1047.69 34.2544 Q1050.36 30.163 1053.97 28.1376 Q1057.62 26.1121 1062.35 26.1121 Q1070.17 26.1121 1074.18 30.9732 Q1078.19 35.7938 1078.19 45.1919 Z\" fill=\"#000000\" fill-rule=\"evenodd\" fill-opacity=\"1\" /><path clip-path=\"url(#clip580)\" d=\"M1113.68 49.7694 Q1104.65 49.7694 1101.16 51.8354 Q1097.68 53.9013 1097.68 58.8839 Q1097.68 62.8538 1100.27 65.2034 Q1102.9 67.5124 1107.4 67.5124 Q1113.6 67.5124 1117.33 63.1374 Q1121.09 58.7219 1121.09 51.4303 L1121.09 49.7694 L1113.68 49.7694 M1128.55 46.6907 L1128.55 72.576 L1121.09 72.576 L1121.09 65.6895 Q1118.54 69.8214 1114.73 71.8063 Q1110.92 73.7508 1105.42 73.7508 Q1098.45 73.7508 1094.32 69.8619 Q1090.22 65.9325 1090.22 59.3701 Q1090.22 51.7138 1095.33 47.825 Q1100.47 43.9361 1110.64 43.9361 L1121.09 43.9361 L1121.09 43.2069 Q1121.09 38.0623 1117.69 35.2672 Q1114.33 32.4315 1108.21 32.4315 Q1104.32 32.4315 1100.64 33.3632 Q1096.95 34.295 1093.55 36.1584 L1093.55 29.2718 Q1097.64 27.692 1101.49 26.9223 Q1105.33 26.1121 1108.98 26.1121 Q1118.82 26.1121 1123.69 31.2163 Q1128.55 36.3204 1128.55 46.6907 Z\" fill=\"#000000\" fill-rule=\"evenodd\" fill-opacity=\"1\" /><path clip-path=\"url(#clip580)\" d=\"M1172.82 28.5427 L1172.82 35.5912 Q1169.66 33.9709 1166.26 33.1607 Q1162.86 32.3505 1159.21 32.3505 Q1153.66 32.3505 1150.87 34.0519 Q1148.11 35.7533 1148.11 39.156 Q1148.11 41.7486 1150.1 43.2475 Q1152.08 44.7058 1158.08 46.0426 L1160.63 46.6097 Q1168.57 48.3111 1171.89 51.4303 Q1175.25 54.509 1175.25 60.0587 Q1175.25 66.3781 1170.23 70.0644 Q1165.25 73.7508 1156.5 73.7508 Q1152.85 73.7508 1148.88 73.0216 Q1144.95 72.3329 1140.58 70.9151 L1140.58 63.2184 Q1144.71 65.3654 1148.72 66.4591 Q1152.73 67.5124 1156.66 67.5124 Q1161.93 67.5124 1164.76 65.73 Q1167.6 63.9071 1167.6 60.6258 Q1167.6 57.5877 1165.53 55.9673 Q1163.51 54.3469 1156.58 52.8481 L1153.99 52.2405 Q1147.06 50.7821 1143.98 47.7845 Q1140.9 44.7463 1140.9 39.4801 Q1140.9 33.0797 1145.44 29.5959 Q1149.98 26.1121 1158.32 26.1121 Q1162.45 26.1121 1166.1 26.7198 Q1169.74 27.3274 1172.82 28.5427 Z\" fill=\"#000000\" fill-rule=\"evenodd\" fill-opacity=\"1\" /><path clip-path=\"url(#clip580)\" d=\"M1194.5 14.324 L1194.5 27.2059 L1209.85 27.2059 L1209.85 32.9987 L1194.5 32.9987 L1194.5 57.6282 Q1194.5 63.1779 1195.99 64.7578 Q1197.53 66.3376 1202.19 66.3376 L1209.85 66.3376 L1209.85 72.576 L1202.19 72.576 Q1193.56 72.576 1190.28 69.3758 Q1187 66.1351 1187 57.6282 L1187 32.9987 L1181.53 32.9987 L1181.53 27.2059 L1187 27.2059 L1187 14.324 L1194.5 14.324 Z\" fill=\"#000000\" fill-rule=\"evenodd\" fill-opacity=\"1\" /><path clip-path=\"url(#clip580)\" d=\"M1219.65 27.2059 L1227.1 27.2059 L1227.1 72.576 L1219.65 72.576 L1219.65 27.2059 M1219.65 9.54393 L1227.1 9.54393 L1227.1 18.9825 L1219.65 18.9825 L1219.65 9.54393 Z\" fill=\"#000000\" fill-rule=\"evenodd\" fill-opacity=\"1\" /><path clip-path=\"url(#clip580)\" d=\"M1275.35 28.9478 L1275.35 35.9153 Q1272.19 34.1734 1268.99 33.3227 Q1265.83 32.4315 1262.59 32.4315 Q1255.34 32.4315 1251.33 37.0496 Q1247.32 41.6271 1247.32 49.9314 Q1247.32 58.2358 1251.33 62.8538 Q1255.34 67.4314 1262.59 67.4314 Q1265.83 67.4314 1268.99 66.5807 Q1272.19 65.6895 1275.35 63.9476 L1275.35 70.8341 Q1272.23 72.2924 1268.87 73.0216 Q1265.55 73.7508 1261.78 73.7508 Q1251.53 73.7508 1245.5 67.3098 Q1239.46 60.8689 1239.46 49.9314 Q1239.46 38.832 1245.54 32.472 Q1251.65 26.1121 1262.27 26.1121 Q1265.71 26.1121 1268.99 26.8413 Q1272.27 27.5299 1275.35 28.9478 Z\" fill=\"#000000\" fill-rule=\"evenodd\" fill-opacity=\"1\" /><path clip-path=\"url(#clip580)\" d=\"M1343.69 44.2197 Q1346.32 45.1109 1348.79 48.0275 Q1351.31 50.9442 1353.82 56.0483 L1362.12 72.576 L1353.33 72.576 L1345.59 57.061 Q1342.6 50.9847 1339.76 48.9997 Q1336.97 47.0148 1332.1 47.0148 L1323.19 47.0148 L1323.19 72.576 L1315.01 72.576 L1315.01 12.096 L1333.48 12.096 Q1343.85 12.096 1348.96 16.4305 Q1354.06 20.7649 1354.06 29.5149 Q1354.06 35.2267 1351.39 38.994 Q1348.75 42.7613 1343.69 44.2197 M1323.19 18.8205 L1323.19 40.2903 L1333.48 40.2903 Q1339.4 40.2903 1342.39 37.5762 Q1345.43 34.8216 1345.43 29.5149 Q1345.43 24.2082 1342.39 21.5346 Q1339.4 18.8205 1333.48 18.8205 L1323.19 18.8205 Z\" fill=\"#000000\" fill-rule=\"evenodd\" fill-opacity=\"1\" /><path clip-path=\"url(#clip580)\" d=\"M1386.18 32.4315 Q1380.19 32.4315 1376.7 37.1306 Q1373.22 41.7891 1373.22 49.9314 Q1373.22 58.0738 1376.66 62.7728 Q1380.15 67.4314 1386.18 67.4314 Q1392.14 67.4314 1395.62 62.7323 Q1399.11 58.0333 1399.11 49.9314 Q1399.11 41.8701 1395.62 37.1711 Q1392.14 32.4315 1386.18 32.4315 M1386.18 26.1121 Q1395.91 26.1121 1401.46 32.4315 Q1407.01 38.7509 1407.01 49.9314 Q1407.01 61.0714 1401.46 67.4314 Q1395.91 73.7508 1386.18 73.7508 Q1376.42 73.7508 1370.87 67.4314 Q1365.36 61.0714 1365.36 49.9314 Q1365.36 38.7509 1370.87 32.4315 Q1376.42 26.1121 1386.18 26.1121 Z\" fill=\"#000000\" fill-rule=\"evenodd\" fill-opacity=\"1\" /><path clip-path=\"url(#clip580)\" d=\"M1418.59 54.671 L1418.59 27.2059 L1426.04 27.2059 L1426.04 54.3874 Q1426.04 60.8284 1428.56 64.0691 Q1431.07 67.2693 1436.09 67.2693 Q1442.13 67.2693 1445.61 63.421 Q1449.13 59.5726 1449.13 52.9291 L1449.13 27.2059 L1456.59 27.2059 L1456.59 72.576 L1449.13 72.576 L1449.13 65.6084 Q1446.42 69.7404 1442.82 71.7658 Q1439.25 73.7508 1434.51 73.7508 Q1426.69 73.7508 1422.64 68.8897 Q1418.59 64.0286 1418.59 54.671 M1437.35 26.1121 L1437.35 26.1121 Z\" fill=\"#000000\" fill-rule=\"evenodd\" fill-opacity=\"1\" /><path clip-path=\"url(#clip580)\" d=\"M1509.66 45.1919 L1509.66 72.576 L1502.2 72.576 L1502.2 45.4349 Q1502.2 38.994 1499.69 35.7938 Q1497.18 32.5936 1492.16 32.5936 Q1486.12 32.5936 1482.64 36.4419 Q1479.15 40.2903 1479.15 46.9338 L1479.15 72.576 L1471.66 72.576 L1471.66 27.2059 L1479.15 27.2059 L1479.15 34.2544 Q1481.83 30.163 1485.43 28.1376 Q1489.08 26.1121 1493.82 26.1121 Q1501.63 26.1121 1505.65 30.9732 Q1509.66 35.7938 1509.66 45.1919 Z\" fill=\"#000000\" fill-rule=\"evenodd\" fill-opacity=\"1\" /><path clip-path=\"url(#clip580)\" d=\"M1554.38 34.0924 L1554.38 9.54393 L1561.83 9.54393 L1561.83 72.576 L1554.38 72.576 L1554.38 65.7705 Q1552.03 69.8214 1548.42 71.8063 Q1544.86 73.7508 1539.83 73.7508 Q1531.61 73.7508 1526.43 67.1883 Q1521.28 60.6258 1521.28 49.9314 Q1521.28 39.2371 1526.43 32.6746 Q1531.61 26.1121 1539.83 26.1121 Q1544.86 26.1121 1548.42 28.0971 Q1552.03 30.0415 1554.38 34.0924 M1528.98 49.9314 Q1528.98 58.1548 1532.34 62.8538 Q1535.74 67.5124 1541.66 67.5124 Q1547.57 67.5124 1550.97 62.8538 Q1554.38 58.1548 1554.38 49.9314 Q1554.38 41.7081 1550.97 37.0496 Q1547.57 32.3505 1541.66 32.3505 Q1535.74 32.3505 1532.34 37.0496 Q1528.98 41.7081 1528.98 49.9314 Z\" fill=\"#000000\" fill-rule=\"evenodd\" fill-opacity=\"1\" /><path clip-path=\"url(#clip580)\" d=\"M1577.18 27.2059 L1584.64 27.2059 L1584.64 72.576 L1577.18 72.576 L1577.18 27.2059 M1577.18 9.54393 L1584.64 9.54393 L1584.64 18.9825 L1577.18 18.9825 L1577.18 9.54393 Z\" fill=\"#000000\" fill-rule=\"evenodd\" fill-opacity=\"1\" /><path clip-path=\"url(#clip580)\" d=\"M1637.95 45.1919 L1637.95 72.576 L1630.49 72.576 L1630.49 45.4349 Q1630.49 38.994 1627.98 35.7938 Q1625.47 32.5936 1620.45 32.5936 Q1614.41 32.5936 1610.93 36.4419 Q1607.44 40.2903 1607.44 46.9338 L1607.44 72.576 L1599.95 72.576 L1599.95 27.2059 L1607.44 27.2059 L1607.44 34.2544 Q1610.12 30.163 1613.72 28.1376 Q1617.37 26.1121 1622.11 26.1121 Q1629.93 26.1121 1633.94 30.9732 Q1637.95 35.7938 1637.95 45.1919 Z\" fill=\"#000000\" fill-rule=\"evenodd\" fill-opacity=\"1\" /><path clip-path=\"url(#clip580)\" d=\"M1682.67 49.3643 Q1682.67 41.2625 1679.31 36.8065 Q1675.99 32.3505 1669.95 32.3505 Q1663.95 32.3505 1660.59 36.8065 Q1657.27 41.2625 1657.27 49.3643 Q1657.27 57.4256 1660.59 61.8816 Q1663.95 66.3376 1669.95 66.3376 Q1675.99 66.3376 1679.31 61.8816 Q1682.67 57.4256 1682.67 49.3643 M1690.12 66.9452 Q1690.12 78.5308 1684.98 84.1616 Q1679.83 89.8329 1669.22 89.8329 Q1665.29 89.8329 1661.81 89.2252 Q1658.32 88.6581 1655.04 87.4428 L1655.04 80.1917 Q1658.32 81.9741 1661.52 82.8248 Q1664.72 83.6755 1668.05 83.6755 Q1675.38 83.6755 1679.02 79.8271 Q1682.67 76.0193 1682.67 68.282 L1682.67 64.5957 Q1680.36 68.6061 1676.76 70.5911 Q1673.15 72.576 1668.13 72.576 Q1659.78 72.576 1654.68 66.2161 Q1649.57 59.8562 1649.57 49.3643 Q1649.57 38.832 1654.68 32.472 Q1659.78 26.1121 1668.13 26.1121 Q1673.15 26.1121 1676.76 28.0971 Q1680.36 30.082 1682.67 34.0924 L1682.67 27.2059 L1690.12 27.2059 L1690.12 66.9452 Z\" fill=\"#000000\" fill-rule=\"evenodd\" fill-opacity=\"1\" /><path clip-path=\"url(#clip582)\" d=\"\nM1273.18 804.957 L1916.18 804.957 L1914.83 763.34 L1910.79 721.898 L1904.08 680.804 L1894.72 640.231 L1882.75 600.349 L1868.23 561.325 L1851.22 523.322 L1831.78 486.501 \n  L1809.99 451.014 L1785.96 417.012 L1759.78 384.637 L1731.55 354.025 L1701.41 325.303 L1669.46 298.593 L1635.86 274.006 L1600.73 251.646 L1564.24 231.606 L1526.52 213.97 \n  L1487.73 198.813 L1448.05 186.197 L1407.64 176.176 L1366.66 168.792 L1325.29 164.076 L1283.7 162.047 L1242.07 162.714 L1200.57 166.074 L1159.37 172.114 L1118.65 180.807 \n  L1078.57 192.118 L1039.32 205.998 L1001.04 222.39 L963.907 241.225 L928.069 262.424 L893.678 285.898 L860.879 311.549 L829.809 339.269 L800.598 368.942 L773.369 400.443 \n  L748.235 433.64 L725.303 468.395 L704.669 504.561 L686.418 541.986 L670.629 580.515 L657.365 619.984 L646.685 660.229 L638.631 701.081 L633.238 742.369 L630.529 783.919 \n  L630.515 825.557 L1273.18 804.957  Z\n  \" fill=\"#009af9\" fill-rule=\"evenodd\" fill-opacity=\"1\"/>\n<polyline clip-path=\"url(#clip582)\" style=\"stroke:#000000; stroke-linecap:butt; stroke-linejoin:round; stroke-width:4; stroke-opacity:0.5; fill:none\" points=\"\n  1273.18,804.957 1916.18,804.957 1914.83,763.34 1910.79,721.898 1904.08,680.804 1894.72,640.231 1882.75,600.349 1868.23,561.325 1851.22,523.322 1831.78,486.501 \n  1809.99,451.014 1785.96,417.012 1759.78,384.637 1731.55,354.025 1701.41,325.303 1669.46,298.593 1635.86,274.006 1600.73,251.646 1564.24,231.606 1526.52,213.97 \n  1487.73,198.813 1448.05,186.197 1407.64,176.176 1366.66,168.792 1325.29,164.076 1283.7,162.047 1242.07,162.714 1200.57,166.074 1159.37,172.114 1118.65,180.807 \n  1078.57,192.118 1039.32,205.998 1001.04,222.39 963.907,241.225 928.069,262.424 893.678,285.898 860.879,311.549 829.809,339.269 800.598,368.942 773.369,400.443 \n  748.235,433.64 725.303,468.395 704.669,504.561 686.418,541.986 670.629,580.515 657.365,619.984 646.685,660.229 638.631,701.081 633.238,742.369 630.529,783.919 \n  630.515,825.557 1273.18,804.957 \n  \"/>\n<path clip-path=\"url(#clip582)\" d=\"\nM1273.18 804.957 L630.515 825.557 L633.115 866.272 L638.292 906.74 L646.025 946.798 L656.283 986.286 L669.024 1025.04 L684.197 1062.91 L701.742 1099.75 L721.587 1135.39 \n  L743.653 1169.71 L767.85 1202.56 L794.082 1233.8 L822.243 1263.32 L852.219 1291 L883.89 1316.71 L917.128 1340.37 L951.8 1361.87 L987.765 1381.13 L1024.88 1398.08 \n  L1062.99 1412.63 L1101.95 1424.73 L1141.6 1434.35 L1181.78 1441.42 L1222.33 1445.94 L1263.08 1447.87 L1303.87 1447.22 L1344.54 1443.98 L1384.92 1438.17 L1424.86 1429.81 \n  L1464.18 1418.93 L1502.73 1405.58 L1540.36 1389.82 L1576.91 1371.69 L1612.24 1351.29 L1646.2 1328.69 L1678.67 1303.98 L1709.5 1277.26 L1738.57 1248.64 L1765.77 1218.23 \n  L1790.99 1186.16 L1814.12 1152.56 L1835.08 1117.55 L1853.77 1081.29 L1870.13 1043.91 L1884.08 1005.57 L1895.57 966.428 L1904.56 926.632 L1911 886.347 L1914.88 845.734 \n  L1916.18 804.957 L1273.18 804.957  Z\n  \" fill=\"#e26f46\" fill-rule=\"evenodd\" fill-opacity=\"1\"/>\n<polyline clip-path=\"url(#clip582)\" style=\"stroke:#000000; stroke-linecap:butt; stroke-linejoin:round; stroke-width:4; stroke-opacity:0.5; fill:none\" points=\"\n  1273.18,804.957 630.515,825.557 633.115,866.272 638.292,906.74 646.025,946.798 656.283,986.286 669.024,1025.04 684.197,1062.91 701.742,1099.75 721.587,1135.39 \n  743.653,1169.71 767.85,1202.56 794.082,1233.8 822.243,1263.32 852.219,1291 883.89,1316.71 917.128,1340.37 951.8,1361.87 987.765,1381.13 1024.88,1398.08 \n  1062.99,1412.63 1101.95,1424.73 1141.6,1434.35 1181.78,1441.42 1222.33,1445.94 1263.08,1447.87 1303.87,1447.22 1344.54,1443.98 1384.92,1438.17 1424.86,1429.81 \n  1464.18,1418.93 1502.73,1405.58 1540.36,1389.82 1576.91,1371.69 1612.24,1351.29 1646.2,1328.69 1678.67,1303.98 1709.5,1277.26 1738.57,1248.64 1765.77,1218.23 \n  1790.99,1186.16 1814.12,1152.56 1835.08,1117.55 1853.77,1081.29 1870.13,1043.91 1884.08,1005.57 1895.57,966.428 1904.56,926.632 1911,886.347 1914.88,845.734 \n  1916.18,804.957 1273.18,804.957 \n  \"/>\n<path clip-path=\"url(#clip580)\" d=\"\nM1873.68 324.425 L2280.8 324.425 L2280.8 168.905 L1873.68 168.905  Z\n  \" fill=\"#ffffff\" fill-rule=\"evenodd\" fill-opacity=\"1\"/>\n<polyline clip-path=\"url(#clip580)\" style=\"stroke:#000000; stroke-linecap:butt; stroke-linejoin:round; stroke-width:4; stroke-opacity:1; fill:none\" points=\"\n  1873.68,324.425 2280.8,324.425 2280.8,168.905 1873.68,168.905 1873.68,324.425 \n  \"/>\n<path clip-path=\"url(#clip580)\" d=\"\nM1897.67 241.481 L2041.59 241.481 L2041.59 200.009 L1897.67 200.009 L1897.67 241.481  Z\n  \" fill=\"#009af9\" fill-rule=\"evenodd\" fill-opacity=\"1\"/>\n<polyline clip-path=\"url(#clip580)\" style=\"stroke:#000000; stroke-linecap:butt; stroke-linejoin:round; stroke-width:4; stroke-opacity:1; fill:none\" points=\"\n  1897.67,241.481 2041.59,241.481 2041.59,200.009 1897.67,200.009 1897.67,241.481 \n  \"/>\n<path clip-path=\"url(#clip580)\" d=\"M2086.09 213.094 L2086.09 217.076 Q2084.28 216.08 2082.45 215.594 Q2080.65 215.085 2078.79 215.085 Q2074.65 215.085 2072.36 217.724 Q2070.07 220.34 2070.07 225.085 Q2070.07 229.83 2072.36 232.469 Q2074.65 235.085 2078.79 235.085 Q2080.65 235.085 2082.45 234.599 Q2084.28 234.089 2086.09 233.094 L2086.09 237.029 Q2084.3 237.863 2082.38 238.279 Q2080.48 238.696 2078.33 238.696 Q2072.48 238.696 2069.03 235.015 Q2065.58 231.335 2065.58 225.085 Q2065.58 218.742 2069.05 215.108 Q2072.54 211.474 2078.61 211.474 Q2080.58 211.474 2082.45 211.891 Q2084.33 212.284 2086.09 213.094 Z\" fill=\"#000000\" fill-rule=\"evenodd\" fill-opacity=\"1\" /><path clip-path=\"url(#clip580)\" d=\"M2115.67 223.997 L2115.67 226.08 L2096.09 226.08 Q2096.36 230.478 2098.72 232.793 Q2101.11 235.085 2105.35 235.085 Q2107.8 235.085 2110.09 234.483 Q2112.41 233.881 2114.67 232.677 L2114.67 236.705 Q2112.38 237.677 2109.97 238.187 Q2107.57 238.696 2105.09 238.696 Q2098.89 238.696 2095.25 235.085 Q2091.64 231.474 2091.64 225.316 Q2091.64 218.951 2095.07 215.224 Q2098.52 211.474 2104.35 211.474 Q2109.58 211.474 2112.61 214.853 Q2115.67 218.21 2115.67 223.997 M2111.41 222.747 Q2111.36 219.252 2109.44 217.168 Q2107.54 215.085 2104.4 215.085 Q2100.83 215.085 2098.68 217.099 Q2096.55 219.113 2096.22 222.77 L2111.41 222.747 Z\" fill=\"#000000\" fill-rule=\"evenodd\" fill-opacity=\"1\" /><path clip-path=\"url(#clip580)\" d=\"M2122.66 212.099 L2126.92 212.099 L2126.92 238.025 L2122.66 238.025 L2122.66 212.099 M2122.66 202.006 L2126.92 202.006 L2126.92 207.4 L2122.66 207.4 L2122.66 202.006 Z\" fill=\"#000000\" fill-rule=\"evenodd\" fill-opacity=\"1\" /><path clip-path=\"url(#clip580)\" d=\"M2135.83 202.006 L2140.09 202.006 L2140.09 238.025 L2135.83 238.025 L2135.83 202.006 Z\" fill=\"#000000\" fill-rule=\"evenodd\" fill-opacity=\"1\" /><path clip-path=\"url(#clip580)\" d=\"M2159.23 202.053 Q2156.13 207.377 2154.63 212.585 Q2153.12 217.793 2153.12 223.14 Q2153.12 228.488 2154.63 233.742 Q2156.16 238.974 2159.23 244.275 L2155.53 244.275 Q2152.06 238.835 2150.32 233.58 Q2148.61 228.326 2148.61 223.14 Q2148.61 217.978 2150.32 212.747 Q2152.03 207.516 2155.53 202.053 L2159.23 202.053 Z\" fill=\"#000000\" fill-rule=\"evenodd\" fill-opacity=\"1\" /><path clip-path=\"url(#clip580)\" d=\"M2189.05 212.099 L2179.67 224.715 L2189.53 238.025 L2184.51 238.025 L2176.97 227.84 L2169.42 238.025 L2164.4 238.025 L2174.47 224.46 L2165.25 212.099 L2170.28 212.099 L2177.15 221.335 L2184.03 212.099 L2189.05 212.099 Z\" fill=\"#000000\" fill-rule=\"evenodd\" fill-opacity=\"1\" /><path clip-path=\"url(#clip580)\" d=\"M2194.88 202.053 L2198.59 202.053 Q2202.06 207.516 2203.77 212.747 Q2205.51 217.978 2205.51 223.14 Q2205.51 228.326 2203.77 233.58 Q2202.06 238.835 2198.59 244.275 L2194.88 244.275 Q2197.96 238.974 2199.47 233.742 Q2200.99 228.488 2200.99 223.14 Q2200.99 217.793 2199.47 212.585 Q2197.96 207.377 2194.88 202.053 Z\" fill=\"#000000\" fill-rule=\"evenodd\" fill-opacity=\"1\" /><path clip-path=\"url(#clip580)\" d=\"\nM1897.67 293.321 L2041.59 293.321 L2041.59 251.849 L1897.67 251.849 L1897.67 293.321  Z\n  \" fill=\"#e26f46\" fill-rule=\"evenodd\" fill-opacity=\"1\"/>\n<polyline clip-path=\"url(#clip580)\" style=\"stroke:#000000; stroke-linecap:butt; stroke-linejoin:round; stroke-width:4; stroke-opacity:1; fill:none\" points=\"\n  1897.67,293.321 2041.59,293.321 2041.59,251.849 1897.67,251.849 1897.67,293.321 \n  \"/>\n<path clip-path=\"url(#clip580)\" d=\"M2082.08 253.846 L2082.08 257.388 L2078.01 257.388 Q2075.72 257.388 2074.81 258.314 Q2073.93 259.24 2073.93 261.647 L2073.93 263.939 L2080.95 263.939 L2080.95 267.249 L2073.93 267.249 L2073.93 289.865 L2069.65 289.865 L2069.65 267.249 L2065.58 267.249 L2065.58 263.939 L2069.65 263.939 L2069.65 262.133 Q2069.65 257.805 2071.66 255.837 Q2073.68 253.846 2078.05 253.846 L2082.08 253.846 Z\" fill=\"#000000\" fill-rule=\"evenodd\" fill-opacity=\"1\" /><path clip-path=\"url(#clip580)\" d=\"M2085.65 253.846 L2089.91 253.846 L2089.91 289.865 L2085.65 289.865 L2085.65 253.846 Z\" fill=\"#000000\" fill-rule=\"evenodd\" fill-opacity=\"1\" /><path clip-path=\"url(#clip580)\" d=\"M2108.86 266.925 Q2105.44 266.925 2103.45 269.61 Q2101.46 272.272 2101.46 276.925 Q2101.46 281.578 2103.42 284.263 Q2105.41 286.925 2108.86 286.925 Q2112.27 286.925 2114.26 284.24 Q2116.25 281.555 2116.25 276.925 Q2116.25 272.318 2114.26 269.633 Q2112.27 266.925 2108.86 266.925 M2108.86 263.314 Q2114.42 263.314 2117.59 266.925 Q2120.76 270.536 2120.76 276.925 Q2120.76 283.291 2117.59 286.925 Q2114.42 290.536 2108.86 290.536 Q2103.29 290.536 2100.11 286.925 Q2096.97 283.291 2096.97 276.925 Q2096.97 270.536 2100.11 266.925 Q2103.29 263.314 2108.86 263.314 Z\" fill=\"#000000\" fill-rule=\"evenodd\" fill-opacity=\"1\" /><path clip-path=\"url(#clip580)\" d=\"M2137.87 266.925 Q2134.44 266.925 2132.45 269.61 Q2130.46 272.272 2130.46 276.925 Q2130.46 281.578 2132.43 284.263 Q2134.42 286.925 2137.87 286.925 Q2141.27 286.925 2143.26 284.24 Q2145.25 281.555 2145.25 276.925 Q2145.25 272.318 2143.26 269.633 Q2141.27 266.925 2137.87 266.925 M2137.87 263.314 Q2143.42 263.314 2146.6 266.925 Q2149.77 270.536 2149.77 276.925 Q2149.77 283.291 2146.6 286.925 Q2143.42 290.536 2137.87 290.536 Q2132.29 290.536 2129.12 286.925 Q2125.97 283.291 2125.97 276.925 Q2125.97 270.536 2129.12 266.925 Q2132.29 263.314 2137.87 263.314 Z\" fill=\"#000000\" fill-rule=\"evenodd\" fill-opacity=\"1\" /><path clip-path=\"url(#clip580)\" d=\"M2171.85 267.92 Q2171.13 267.504 2170.28 267.318 Q2169.44 267.11 2168.42 267.11 Q2164.81 267.11 2162.87 269.471 Q2160.95 271.809 2160.95 276.207 L2160.95 289.865 L2156.66 289.865 L2156.66 263.939 L2160.95 263.939 L2160.95 267.967 Q2162.29 265.606 2164.44 264.471 Q2166.59 263.314 2169.67 263.314 Q2170.11 263.314 2170.65 263.383 Q2171.18 263.43 2171.83 263.545 L2171.85 267.92 Z\" fill=\"#000000\" fill-rule=\"evenodd\" fill-opacity=\"1\" /><path clip-path=\"url(#clip580)\" d=\"M2186.55 253.893 Q2183.45 259.217 2181.94 264.425 Q2180.44 269.633 2180.44 274.98 Q2180.44 280.328 2181.94 285.582 Q2183.47 290.814 2186.55 296.115 L2182.84 296.115 Q2179.37 290.675 2177.64 285.42 Q2175.92 280.166 2175.92 274.98 Q2175.92 269.818 2177.64 264.587 Q2179.35 259.356 2182.84 253.893 L2186.55 253.893 Z\" fill=\"#000000\" fill-rule=\"evenodd\" fill-opacity=\"1\" /><path clip-path=\"url(#clip580)\" d=\"M2216.36 263.939 L2206.99 276.555 L2216.85 289.865 L2211.83 289.865 L2204.28 279.68 L2196.73 289.865 L2191.71 289.865 L2201.78 276.3 L2192.57 263.939 L2197.59 263.939 L2204.47 273.175 L2211.34 263.939 L2216.36 263.939 Z\" fill=\"#000000\" fill-rule=\"evenodd\" fill-opacity=\"1\" /><path clip-path=\"url(#clip580)\" d=\"M2222.2 253.893 L2225.9 253.893 Q2229.37 259.356 2231.09 264.587 Q2232.82 269.818 2232.82 274.98 Q2232.82 280.166 2231.09 285.42 Q2229.37 290.675 2225.9 296.115 L2222.2 296.115 Q2225.28 290.814 2226.78 285.582 Q2228.31 280.328 2228.31 274.98 Q2228.31 269.633 2226.78 264.425 Q2225.28 259.217 2222.2 253.893 Z\" fill=\"#000000\" fill-rule=\"evenodd\" fill-opacity=\"1\" /></svg>\n"
          },
          "metadata": {},
          "execution_count": 33
        }
      ]
    },
    {
      "cell_type": "code",
      "source": [],
      "metadata": {
        "id": "OlGCOsK_B-BO"
      },
      "execution_count": null,
      "outputs": []
    }
  ]
}